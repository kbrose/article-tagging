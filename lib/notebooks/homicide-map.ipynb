{
 "cells": [
  {
   "cell_type": "code",
   "execution_count": 1,
   "metadata": {},
   "outputs": [],
   "source": [
    "import pandas as pd\n",
    "import numpy as np\n",
    "import matplotlib.pyplot as plt\n",
    "import folium\n",
    "from folium.plugins import HeatMap"
   ]
  },
  {
   "cell_type": "code",
   "execution_count": 2,
   "metadata": {},
   "outputs": [],
   "source": [
    "news_coords = pd.read_csv('../tagnews/data/homicide-2015-lat-longs.csv')\n",
    "news_coords = news_coords[['lat', 'long']].values"
   ]
  },
  {
   "cell_type": "code",
   "execution_count": 3,
   "metadata": {},
   "outputs": [],
   "source": [
    "crimes = pd.read_csv('../tagnews/data/Crimes_-_2001_to_present.csv')"
   ]
  },
  {
   "cell_type": "code",
   "execution_count": 4,
   "metadata": {},
   "outputs": [
    {
     "data": {
      "text/plain": [
       "Index(['ID', 'Case Number', 'Date', 'Block', 'IUCR', 'Primary Type',\n",
       "       'Description', 'Location Description', 'Arrest', 'Domestic', 'Beat',\n",
       "       'District', 'Ward', 'Community Area', 'FBI Code', 'X Coordinate',\n",
       "       'Y Coordinate', 'Year', 'Updated On', 'Latitude', 'Longitude',\n",
       "       'Location'],\n",
       "      dtype='object')"
      ]
     },
     "execution_count": 4,
     "metadata": {},
     "output_type": "execute_result"
    }
   ],
   "source": [
    "crimes.columns"
   ]
  },
  {
   "cell_type": "code",
   "execution_count": 5,
   "metadata": {},
   "outputs": [],
   "source": [
    "crimes = crimes.loc[crimes['Primary Type'] == 'HOMICIDE', :]\n",
    "times = pd.to_datetime(crimes['Date'])\n",
    "crimes = crimes.loc[('2015' <= times) & (times <= '2016')]\n",
    "# crime_coords = crimes[['Latitude', 'Longitude']]\n",
    "# crime_coords = crime_coords.loc[~pd.isnull(crime_coords).any(axis=1)]\n",
    "cavc = crimes['Community Area'].value_counts()\n",
    "com_area = pd.DataFrame(np.array([cavc.index, cavc.values.flatten()]).T, columns=['area', 'count'])\n",
    "com_area['area'] = com_area['area'].astype(int)\n",
    "com_area['area'] = com_area['area'].astype(str)\n",
    "com_area.set_index('area', drop=False, inplace=True)"
   ]
  },
  {
   "cell_type": "code",
   "execution_count": 6,
   "metadata": {},
   "outputs": [],
   "source": [
    "import json\n",
    "from collections import defaultdict\n",
    "from shapely.geometry import shape, Point\n",
    "# depending on your version, use: from shapely.geometry import shape, Point\n",
    "\n",
    "# load GeoJSON file containing sectors\n",
    "with open('com-areas.geojson') as f:\n",
    "    js = json.load(f)\n",
    "\n",
    "counts = defaultdict(lambda : 0)\n",
    "\n",
    "for point in news_coords:\n",
    "    point = Point([point[1], point[0]])\n",
    "    for feature in js['features']:\n",
    "        polygon = shape(feature['geometry'])\n",
    "        if polygon.contains(point):\n",
    "            counts[feature['properties']['area_num_1']] += 1"
   ]
  },
  {
   "cell_type": "code",
   "execution_count": 7,
   "metadata": {},
   "outputs": [],
   "source": [
    "com_area['actual_proportions'] = com_area['count'] / com_area['count'].sum()\n",
    "com_area['news_counts'] = pd.Series(dict(counts))\n",
    "com_area['news_proportions'] = com_area['news_counts'] / com_area['news_counts'].sum()\n",
    "com_area['news_minus_actual'] = com_area['news_proportions'] - com_area['actual_proportions']"
   ]
  },
  {
   "cell_type": "code",
   "execution_count": 10,
   "metadata": {},
   "outputs": [],
   "source": [
    "m = folium.Map(location=[41.84871, -87.6298],\n",
    "               zoom_start=11,\n",
    "               tiles='cartodbpositron')\n",
    "\n",
    "m.choropleth(geo_data='../tagnews/data/Boundaries - Community Areas (current).geojson',\n",
    "             name='homicide',\n",
    "             data=com_area,\n",
    "             columns=['area', 'news_minus_actual'],\n",
    "             key_on='feature.properties.area_num_1',\n",
    "             threshold_scale=[-.3, -.1, 0, .1, .3],\n",
    "             fill_color='PRGn', fill_opacity=0.7, line_opacity=0.2,\n",
    "             legend_name='News under reporting (-) vs. over reporting (+) ')\n",
    "folium.LayerControl().add_to(m)\n",
    "\n",
    "# for coord in np.unique(news_coords, axis=0):\n",
    "#     folium.Marker(coord, icon=folium.Icon(color='gray', icon='newspaper', prefix='fa')).add_to(m)\n",
    "# for coord in np.unique(crime_coords, axis=0):\n",
    "#     folium.Marker(coord, icon=folium.Icon(color='blue', icon='gavel', prefix='fa')).add_to(m)\n",
    "\n",
    "# HeatMap(np.unique(news_coords, axis=0).tolist()).add_to(m)\n",
    "\n",
    "# folium.GeoJson(\n",
    "#     'com-areas.geojson',\n",
    "#     name='geojson'\n",
    "# ).add_to(m)\n",
    "\n",
    "m.save('homicide-map.html')"
   ]
  },
  {
   "cell_type": "code",
   "execution_count": 12,
   "metadata": {},
   "outputs": [],
   "source": [
    "m = folium.Map(location=[41.84871, -87.6298],\n",
    "               zoom_start=11,\n",
    "               tiles='cartodbpositron')\n",
    "\n",
    "m.choropleth(geo_data='../tagnews/data/Boundaries - Community Areas (current).geojson',\n",
    "             name='homicide',\n",
    "             data=com_area,\n",
    "             columns=['area', 'news_minus_actual'],\n",
    "             key_on='feature.properties.area_num_1',\n",
    "             threshold_scale=[-.3, -.1, 0, .1, .3],\n",
    "             fill_color='PRGn', fill_opacity=0.7, line_opacity=0.2,\n",
    "             legend_name='News under reporting (-) vs. over reporting (+) ')\n",
    "folium.LayerControl().add_to(m)\n",
    "\n",
    "# for coord in np.unique(news_coords, axis=0):\n",
    "#     folium.Marker(coord, icon=folium.Icon(color='gray', icon='newspaper', prefix='fa')).add_to(m)\n",
    "# for coord in np.unique(crime_coords, axis=0):\n",
    "#     folium.Marker(coord, icon=folium.Icon(color='blue', icon='gavel', prefix='fa')).add_to(m)\n",
    "\n",
    "# HeatMap(np.unique(news_coords, axis=0).tolist()).add_to(m)\n",
    "\n",
    "# folium.GeoJson(\n",
    "#     'com-areas.geojson',\n",
    "#     name='geojson'\n",
    "# ).add_to(m)\n",
    "\n",
    "m.save('homicide-map.html')"
   ]
  },
  {
   "cell_type": "code",
   "execution_count": null,
   "metadata": {},
   "outputs": [],
   "source": []
  }
 ],
 "metadata": {
  "kernelspec": {
   "display_name": "Python 3",
   "language": "python",
   "name": "python3"
  },
  "language_info": {
   "codemirror_mode": {
    "name": "ipython",
    "version": 3
   },
   "file_extension": ".py",
   "mimetype": "text/x-python",
   "name": "python",
   "nbconvert_exporter": "python",
   "pygments_lexer": "ipython3",
   "version": "3.6.1"
  }
 },
 "nbformat": 4,
 "nbformat_minor": 2
}
