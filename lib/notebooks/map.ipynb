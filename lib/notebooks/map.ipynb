{
 "cells": [
  {
   "cell_type": "code",
   "execution_count": 1,
   "metadata": {},
   "outputs": [],
   "source": [
    "import sys\n",
    "sys.path.append('..')"
   ]
  },
  {
   "cell_type": "code",
   "execution_count": 2,
   "metadata": {},
   "outputs": [],
   "source": [
    "import tagnews"
   ]
  },
  {
   "cell_type": "code",
   "execution_count": 3,
   "metadata": {},
   "outputs": [
    {
     "name": "stderr",
     "output_type": "stream",
     "text": [
      "..\\tagnews\\utils\\load_data.py:194: RuntimeWarning: 1 location strings were not found in the bodytext.\n",
      "  RuntimeWarning)\n"
     ]
    }
   ],
   "source": [
    "df = tagnews.load_data()"
   ]
  },
  {
   "cell_type": "code",
   "execution_count": 4,
   "metadata": {},
   "outputs": [],
   "source": [
    "crimetags = tagnews.CrimeTags()\n",
    "geoextractor = tagnews.GeoCoder()"
   ]
  },
  {
   "cell_type": "code",
   "execution_count": 5,
   "metadata": {},
   "outputs": [],
   "source": [
    "preds = df['bodytext'].apply(crimetags.tagtext_proba)"
   ]
  },
  {
   "cell_type": "code",
   "execution_count": 6,
   "metadata": {},
   "outputs": [
    {
     "data": {
      "text/plain": [
       "(399934, 38)"
      ]
     },
     "execution_count": 6,
     "metadata": {},
     "output_type": "execute_result"
    }
   ],
   "source": [
    "preds.shape"
   ]
  },
  {
   "cell_type": "code",
   "execution_count": 7,
   "metadata": {},
   "outputs": [
    {
     "data": {
      "text/plain": [
       "Index(['ARSN', 'BEAT', 'BURG', 'CCCC', 'CCJ', 'CCSP', 'CPBD', 'CPD', 'CPLY',\n",
       "       'CPS', 'CPUB', 'DOMV', 'DRUG', 'DUI', 'ENVI', 'FRUD', 'GANG', 'GLBTQ',\n",
       "       'GUNV', 'HOMI', 'IDOC', 'ILSC', 'ILSP', 'IMMG', 'IPRA', 'JUVE', 'OEMC',\n",
       "       'PARL', 'POLB', 'POLM', 'PROB', 'REEN', 'ROBB', 'SAO', 'SEXA', 'TASR',\n",
       "       'UNSPC', 'VIOL'],\n",
       "      dtype='object')"
      ]
     },
     "execution_count": 7,
     "metadata": {},
     "output_type": "execute_result"
    }
   ],
   "source": [
    "preds.columns"
   ]
  },
  {
   "cell_type": "code",
   "execution_count": 8,
   "metadata": {},
   "outputs": [
    {
     "data": {
      "text/plain": [
       "1134"
      ]
     },
     "execution_count": 8,
     "metadata": {},
     "output_type": "execute_result"
    }
   ],
   "source": [
    "(preds['ARSN'] > 0.7).sum()"
   ]
  },
  {
   "cell_type": "code",
   "execution_count": 9,
   "metadata": {},
   "outputs": [
    {
     "data": {
      "text/plain": [
       "147"
      ]
     },
     "execution_count": 9,
     "metadata": {},
     "output_type": "execute_result"
    }
   ],
   "source": [
    "(preds['TASR'] > 0.7).sum()"
   ]
  },
  {
   "cell_type": "code",
   "execution_count": 15,
   "metadata": {},
   "outputs": [],
   "source": [
    "geostrings = df.loc[preds['TASR'] > 0.7, 'bodytext'].apply(geoextractor.extract_geostrings)"
   ]
  },
  {
   "cell_type": "code",
   "execution_count": 22,
   "metadata": {},
   "outputs": [
    {
     "name": "stderr",
     "output_type": "stream",
     "text": [
      "Status code Unknown from https://services.gisgraphy.com/geocoding/: ERROR - HTTPSConnectionPool(host='services.gisgraphy.com', port=443): Max retries exceeded with url: /geocoding/?address=block+of+South+Oglesby.&limitnbresult=1&format=json (Caused by NewConnectionError('<urllib3.connection.VerifiedHTTPSConnection object at 0x0000029ED6C59EB8>: Failed to establish a new connection: [Errno 11001] getaddrinfo failed',))\n",
      "Status code 401 from https://services.gisgraphy.com/geocoding/: ERROR - 401 Client Error: Unauthorized for url: https://services.gisgraphy.com/geocoding/?address=7400+South+Wabash+Chicago+Illinois&limitnbresult=1&format=json\n",
      "Status code 401 from https://services.gisgraphy.com/geocoding/: ERROR - 401 Client Error: Unauthorized for url: https://services.gisgraphy.com/geocoding/?address=Far+South+Side%2C&limitnbresult=1&format=json\n",
      "Status code 401 from https://services.gisgraphy.com/geocoding/: ERROR - 401 Client Error: Unauthorized for url: https://services.gisgraphy.com/geocoding/?address=Gaynelle+Road+Chicago+Illinois&limitnbresult=1&format=json\n",
      "Status code 401 from https://services.gisgraphy.com/geocoding/: ERROR - 401 Client Error: Unauthorized for url: https://services.gisgraphy.com/geocoding/?address=North+Coast+Music+Chicago+Illinois&limitnbresult=1&format=json\n",
      "Status code 401 from https://services.gisgraphy.com/geocoding/: ERROR - 401 Client Error: Unauthorized for url: https://services.gisgraphy.com/geocoding/?address=Coles+Avenue.&limitnbresult=1&format=json\n",
      "Status code 401 from https://services.gisgraphy.com/geocoding/: ERROR - 401 Client Error: Unauthorized for url: https://services.gisgraphy.com/geocoding/?address=south+suburb.+Officer+Taylor+Chicago+Illinois&limitnbresult=1&format=json\n",
      "Status code 401 from https://services.gisgraphy.com/geocoding/: ERROR - 401 Client Error: Unauthorized for url: https://services.gisgraphy.com/geocoding/?address=Southwest+Side.+At&limitnbresult=1&format=json\n",
      "Status code 401 from https://services.gisgraphy.com/geocoding/: ERROR - 401 Client Error: Unauthorized for url: https://services.gisgraphy.com/geocoding/?address=Ferguson+Chicago+Illinois&limitnbresult=1&format=json\n",
      "Status code 401 from https://services.gisgraphy.com/geocoding/: ERROR - 401 Client Error: Unauthorized for url: https://services.gisgraphy.com/geocoding/?address=Irving+Park+Road+Chicago+Illinois&limitnbresult=1&format=json\n",
      "Status code 401 from https://services.gisgraphy.com/geocoding/: ERROR - 401 Client Error: Unauthorized for url: https://services.gisgraphy.com/geocoding/?address=600+South+Sacramento+Boulevard%2C+Chicago+Illinois&limitnbresult=1&format=json\n",
      "Status code 401 from https://services.gisgraphy.com/geocoding/: ERROR - 401 Client Error: Unauthorized for url: https://services.gisgraphy.com/geocoding/?address=4700+West+Fullerton+Chicago+Illinois&limitnbresult=1&format=json\n"
     ]
    }
   ],
   "source": [
    "lat_longs = geostrings.apply(lambda x: geoextractor.lat_longs_from_geostring_lists(x, sleep_secs=5))"
   ]
  },
  {
   "cell_type": "code",
   "execution_count": 34,
   "metadata": {},
   "outputs": [],
   "source": [
    "import numpy as np\n",
    "import matplotlib.pyplot as plt"
   ]
  },
  {
   "cell_type": "code",
   "execution_count": 49,
   "metadata": {},
   "outputs": [],
   "source": [
    "coords = np.array([x for ll in lat_longs.tolist() for x in ll[0] if ll[0] and x is not None])"
   ]
  },
  {
   "cell_type": "code",
   "execution_count": 55,
   "metadata": {},
   "outputs": [
    {
     "data": {
      "image/png": "[encoded data removed]",
      "text/plain": [
       "<matplotlib.figure.Figure at 0x29ed877d9e8>"
      ]
     },
     "metadata": {},
     "output_type": "display_data"
    }
   ],
   "source": [
    "plt.plot(coords[:, 0], coords[:, 1], '.')\n",
    "plt.axis('square')\n",
    "plt.show()"
   ]
  },
  {
   "cell_type": "code",
   "execution_count": 56,
   "metadata": {},
   "outputs": [],
   "source": [
    "import folium\n",
    "\n",
    "from folium.plugins import HeatMap"
   ]
  },
  {
   "cell_type": "code",
   "execution_count": 71,
   "metadata": {},
   "outputs": [
    {
     "data": {
      "text/html": [
       "<div style=\"width:100%;\"><div style=\"position:relative;width:100%;height:0;padding-bottom:60%;\"><iframe src=\"data:text/html;charset=utf-8;base64,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\" style=\"position:absolute;width:100%;height:100%;left:0;top:0;border:none !important;\" allowfullscreen webkitallowfullscreen mozallowfullscreen></iframe></div></div>"
      ],
      "text/plain": [
       "<folium.folium.Map at 0x29ed95d0c88>"
      ]
     },
     "execution_count": 71,
     "metadata": {},
     "output_type": "execute_result"
    }
   ],
   "source": [
    "m = folium.Map(location=[41.87871, -87.6298])\n",
    "\n",
    "# for coord in coords:\n",
    "#     folium.Marker(coord).add_to(m)\n",
    "\n",
    "HeatMap(np.unique(coords, axis=0).tolist()).add_to(m)\n",
    "\n",
    "m"
   ]
  },
  {
   "cell_type": "code",
   "execution_count": null,
   "metadata": {},
   "outputs": [],
   "source": []
  }
 ],
 "metadata": {
  "kernelspec": {
   "display_name": "Python 3",
   "language": "python",
   "name": "python3"
  },
  "language_info": {
   "codemirror_mode": {
    "name": "ipython",
    "version": 3
   },
   "file_extension": ".py",
   "mimetype": "text/x-python",
   "name": "python",
   "nbconvert_exporter": "python",
   "pygments_lexer": "ipython3",
   "version": "3.6.1"
  }
 },
 "nbformat": 4,
 "nbformat_minor": 2
}
