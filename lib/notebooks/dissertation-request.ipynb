{
 "cells": [
  {
   "cell_type": "code",
   "execution_count": 1,
   "metadata": {
    "collapsed": true
   },
   "outputs": [],
   "source": [
    "# Allows us to import packages that exist one level up in the file system\n",
    "# See https://stackoverflow.com/questions/34478398\n",
    "import os\n",
    "import sys\n",
    "module_path = os.path.abspath(os.path.join('..'))\n",
    "if module_path not in sys.path:\n",
    "    sys.path = [module_path] + sys.path"
   ]
  },
  {
   "cell_type": "code",
   "execution_count": 2,
   "metadata": {
    "collapsed": true
   },
   "outputs": [],
   "source": [
    "from tagnews.utils import load_data as ld\n",
    "import matplotlib.pyplot as plt\n",
    "import numpy as np\n",
    "import pandas as pd\n",
    "import tagnews"
   ]
  },
  {
   "cell_type": "code",
   "execution_count": 3,
   "metadata": {
    "collapsed": false
   },
   "outputs": [
    {
     "name": "stderr",
     "output_type": "stream",
     "text": [
      "/home/kevin/miniconda3/envs/cjp/lib/python3.6/site-packages/IPython/core/interactiveshell.py:2881: DtypeWarning: Columns (1) have mixed types. Specify dtype option on import or set low_memory=False.\n",
      "  exec(code_obj, self.user_global_ns, self.user_ns)\n",
      "/home/kevin/Documents/github/article-tagging/lib/tagnews/utils/load_data.py:187: RuntimeWarning: 1 location strings were not found in the bodytext.\n",
      "  RuntimeWarning)\n"
     ]
    }
   ],
   "source": [
    "crimetags = tagnews.CrimeTags()\n",
    "df = ld.load_data()\n",
    "df['timestamp'] = pd.to_datetime(df['created'], utc=True)\n",
    "is_2017 = (pd.to_datetime('2017', utc=True) <= df['timestamp']) & (df['timestamp'] < pd.to_datetime('2018', utc=True))\n",
    "df = df.loc[is_2017]\n",
    "preds = df['bodytext'].apply(crimetags.tagtext_proba)\n"
   ]
  },
  {
   "cell_type": "code",
   "execution_count": 4,
   "metadata": {
    "collapsed": false
   },
   "outputs": [
    {
     "name": "stdout",
     "output_type": "stream",
     "text": [
      "139339 total articles in 2017\n",
      "47202 have a tag with > 75% chance of applying\n",
      "40933 have a tag with > 85% chance of applying\n",
      "\n",
      "\n",
      "Per Category\n",
      "       75% or more  85% or more\n",
      "ARSN           273          196\n",
      "BEAT           103           73\n",
      "BURG          1067          915\n",
      "CCCC           736          533\n",
      "CCJ            337          264\n",
      "CCSP           715          579\n",
      "CPBD            23           16\n",
      "CPD          12016         9006\n",
      "CPLY          1389          997\n",
      "CPS           2115         1754\n",
      "CPUB            11            8\n",
      "DOMV           616          466\n",
      "DRUG          1751         1550\n",
      "DUI            480          427\n",
      "ENVI             9            2\n",
      "FRUD          1232          997\n",
      "GANG          1220         1017\n",
      "GLBTQ          817          690\n",
      "GUNV         14071        13107\n",
      "HOMI          8957         7808\n",
      "IDOC           102           76\n",
      "ILSC            14           12\n",
      "ILSP           597          462\n",
      "IMMG           869          717\n",
      "IPRA           132          106\n",
      "JUVE          2086         1540\n",
      "OEMC             9            6\n",
      "PARL            79           61\n",
      "POLB           449          364\n",
      "POLM           922          772\n",
      "PROB            14            8\n",
      "REEN            20           13\n",
      "ROBB          3909         3491\n",
      "SAO            750          581\n",
      "SEXA          2329         2089\n",
      "TASR            10            9\n",
      "UNSPC         6660         4734\n",
      "VIOL          8421         6095\n"
     ]
    }
   ],
   "source": [
    "print('{} total articles in 2017'.format(df.shape[0]))\n",
    "print('{} have a tag with > 75% chance of applying'.format((preds > 0.75).any(axis=1).sum()))\n",
    "print('{} have a tag with > 85% chance of applying'.format((preds > 0.85).any(axis=1).sum()))\n",
    "print('\\n\\nPer Category')\n",
    "print(pd.DataFrame({'75% or more': (preds > 0.75).sum(axis=0),\n",
    "                    '85% or more': (preds > 0.85).sum(axis=0)}))\n"
   ]
  },
  {
   "cell_type": "code",
   "execution_count": 5,
   "metadata": {
    "collapsed": true
   },
   "outputs": [],
   "source": [
    "pd.DataFrame({'75% or more': (preds > 0.75).sum(axis=0),\n",
    "              '85% or more': (preds > 0.85).sum(axis=0)}).to_csv('2017-counts-per-crimetype.csv')"
   ]
  },
  {
   "cell_type": "code",
   "execution_count": 6,
   "metadata": {
    "collapsed": false
   },
   "outputs": [],
   "source": [
    "preds.columns = ['model-' + c for c in preds.columns]\n",
    "pd.concat([df, preds], axis=1).loc[(preds > 0.75).any(axis=1), :].to_csv('2017-articles-75-percent.csv')\n",
    "pd.concat([df, preds], axis=1).loc[(preds > 0.85).any(axis=1), :].to_csv('2017-articles-85-percent.csv')"
   ]
  },
  {
   "cell_type": "code",
   "execution_count": 7,
   "metadata": {
    "collapsed": false
   },
   "outputs": [
    {
     "data": {
      "text/plain": [
       "Index(['feedname', 'url', 'title', 'bodytext', 'relevant', 'created',\n",
       "       'last_modified', 'news_source_id', 'author', 'locations', 'OEMC', 'CPD',\n",
       "       'SAO', 'CCCC', 'CCJ', 'CCSP', 'CPUB', 'IDOC', 'DOMV', 'SEXA', 'POLB',\n",
       "       'POLM', 'GUNV', 'GLBTQ', 'JUVE', 'REEN', 'VIOL', 'BEAT', 'PROB', 'PARL',\n",
       "       'CPLY', 'DRUG', 'CPS', 'GANG', 'ILSP', 'HOMI', 'IPRA', 'CPBD', 'IMMG',\n",
       "       'ENVI', 'UNSPC', 'ILSC', 'ARSN', 'BURG', 'DUI', 'FRUD', 'ROBB', 'TASR',\n",
       "       'COPA', 'DIGP', 'timestamp'],\n",
       "      dtype='object')"
      ]
     },
     "execution_count": 7,
     "metadata": {},
     "output_type": "execute_result"
    }
   ],
   "source": [
    "df.columns"
   ]
  },
  {
   "cell_type": "code",
   "execution_count": 8,
   "metadata": {
    "collapsed": false
   },
   "outputs": [
    {
     "data": {
      "text/plain": [
       "T    6018\n",
       "L    2655\n",
       "O    2133\n",
       "G    1840\n",
       "S    1413\n",
       "F    1284\n",
       "A    1238\n",
       "B    1159\n",
       "V     718\n",
       "I     713\n",
       "R     456\n",
       "Z     381\n",
       "D     261\n",
       "W     252\n",
       "M     181\n",
       "C     165\n",
       "U      58\n",
       "a      48\n",
       "E      39\n",
       "X      22\n",
       "b      12\n",
       "Name: feedname, dtype: int64"
      ]
     },
     "execution_count": 8,
     "metadata": {},
     "output_type": "execute_result"
    }
   ],
   "source": [
    "df['feedname'][~pd.isnull(df['feedname'])].value_counts()"
   ]
  },
  {
   "cell_type": "code",
   "execution_count": 9,
   "metadata": {
    "collapsed": false
   },
   "outputs": [],
   "source": [
    "df['feedname'][~pd.isnull(df['feedname'])].value_counts().to_csv('2017-feedname-article-counts.csv')"
   ]
  },
  {
   "cell_type": "code",
   "execution_count": 10,
   "metadata": {
    "collapsed": false
   },
   "outputs": [],
   "source": [
    "df['author'].value_counts().to_csv('2017-author-counts.csv')"
   ]
  },
  {
   "cell_type": "code",
   "execution_count": null,
   "metadata": {
    "collapsed": true
   },
   "outputs": [],
   "source": []
  }
 ],
 "metadata": {
  "anaconda-cloud": {},
  "kernelspec": {
   "display_name": "Python 3",
   "language": "python",
   "name": "python3"
  },
  "language_info": {
   "codemirror_mode": {
    "name": "ipython",
    "version": 3
   },
   "file_extension": ".py",
   "mimetype": "text/x-python",
   "name": "python",
   "nbconvert_exporter": "python",
   "pygments_lexer": "ipython3",
   "version": "3.6.0"
  }
 },
 "nbformat": 4,
 "nbformat_minor": 2
}
